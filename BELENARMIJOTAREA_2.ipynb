import numpy as np
a = np.zeros(100)
i=0
while(i<len(a)):
    
    if(i==0):
        a[i]=0.1
    else:
        a[i]=a[i-1]+0.1
    
    i+=1     
print(a)
