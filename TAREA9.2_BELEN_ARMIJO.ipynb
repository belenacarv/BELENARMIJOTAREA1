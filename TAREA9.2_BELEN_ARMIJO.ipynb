{
  "nbformat": 4,
  "nbformat_minor": 0,
  "metadata": {
    "colab": {
      "provenance": []
    },
    "kernelspec": {
      "name": "python3",
      "display_name": "Python 3"
    },
    "language_info": {
      "name": "python"
    }
  },
  "cells": [
    {
      "cell_type": "markdown",
      "source": [
        "TAREA 9.2 \n",
        "\n",
        "Use el método compuesto de Simpson y el método compuesto del trapecio para encontrar la siguiente integral\n",
        "\n",
        "$$\n",
        "\\int_0^4 \\frac{dx}{\\sqrt{x^2 + 16}}\n",
        "$$\n",
        "\n",
        "Compare con el resultado exacto para obtener el error cometido. Grafique el error en función de $h$ para ambos métodos y compare con las fórmulas de error."
      ],
      "metadata": {
        "id": "x2nKig5C9l-5"
      }
    },
    {
      "cell_type": "markdown",
      "source": [
        "El método compuesto del trapecio es:\n",
        "\n",
        "$$\n",
        "\\int_a^b dx\\,f(x) = \\frac{h}{2}\\left[f(a) + 2\\sum_{i=1}^{n-1} f(x_i) + f(b)\\right]- \\frac{h^2 (b-a)}{12}f''(\\mu)\n",
        "$$\n",
        "\n",
        "con los límites a = 0, y b = 4, luego la integral en esos puntos debe dar 0,88137, podemos ver\n",
        "$$ n = 10, h = \\frac{2}{5} $$"
      ],
      "metadata": {
        "id": "c13folni8u1V"
      }
    },
    {
      "cell_type": "code",
      "execution_count": 3,
      "metadata": {
        "id": "dL4BkvvO9hnK",
        "colab": {
          "base_uri": "https://localhost:8080/"
        },
        "outputId": "82b05dc0-d28b-4194-bc1d-d36fab89e738"
      },
      "outputs": [
        {
          "output_type": "execute_result",
          "data": {
            "text/plain": [
              "0.8810789225522291"
            ]
          },
          "metadata": {},
          "execution_count": 3
        }
      ],
      "source": [
        "import numpy as np\n",
        "import matplotlib.pyplot as plt\n",
        "\n",
        "def funcion(x):\n",
        "  return (1/np.sqrt((x**2) +16))\n",
        "#0,88137 debería dar el valor real\n",
        "\n",
        "\n",
        "#metodo compuesto del trapecio\n",
        "def trapecio(f, a, b, n):\n",
        "    h = (b - a)/n\n",
        "    fx = f(np.linspace(a+h, b-h, n-1, endpoint=True))\n",
        "\n",
        "    return (h/2)*(f(a) + 2*sum(fx) + f(b))\n",
        "\n",
        "\n",
        "#comparar resultado\n",
        "#graficar el error en función de h\n",
        "trapecio(funcion, 0, 4, 10)"
      ]
    },
    {
      "cell_type": "code",
      "source": [
        "x = np.linspace(0,4,100)\n",
        "plt.fill_between(x, (1/np.sqrt((x**2) +16)), alpha = 0.3)\n",
        "\n",
        "h = 2/5\n",
        "def poly(x):\n",
        "    ind = int(x/h)\n",
        "    return 1/((((ind)**2)+16)**0.5)\n",
        "plt.fill_between(x, [poly(xi) for xi in x], alpha = 0.2)\n",
        "\n",
        "xp = np.arange(10)*h\n",
        "plt.scatter(xp, (1/((((xp)**2)+16)**0.5)))\n",
        "\n",
        "\n"
      ],
      "metadata": {
        "colab": {
          "base_uri": "https://localhost:8080/",
          "height": 283
        },
        "id": "2UiwxQDG-krD",
        "outputId": "33a2a254-2fc7-4532-d2f7-8e0d4623b041"
      },
      "execution_count": 12,
      "outputs": [
        {
          "output_type": "execute_result",
          "data": {
            "text/plain": [
              "<matplotlib.collections.PathCollection at 0x7f7d177a6910>"
            ]
          },
          "metadata": {},
          "execution_count": 12
        },
        {
          "output_type": "display_data",
          "data": {
            "text/plain": [
              "<Figure size 432x288 with 1 Axes>"
            ],
            "image/png": "[encoded data removed]"
          },
          "metadata": {
            "needs_background": "light"
          }
        }
      ]
    },
    {
      "cell_type": "code",
      "source": [
        "\n",
        "errt = ((h**2)*4/12)*((2*((x**2) - 8)/((16+(x**2))**(5/2))))\n",
        "print(errt)\n",
        "h = np.arange(100)*h\n",
        "plt.scatter(h**2, errt)\n",
        "  "
      ],
      "metadata": {
        "colab": {
          "base_uri": "https://localhost:8080/",
          "height": 753
        },
        "id": "XWw7NQlaf0W0",
        "outputId": "ab52d3ef-c489-430a-cc3e-aaa2ea9a6260"
      },
      "execution_count": 20,
      "outputs": [
        {
          "output_type": "stream",
          "name": "stdout",
          "text": [
            "[-0.00000000e+00 -8.32950801e-04 -2.12941869e-01 -5.44495018e+00\n",
            " -5.42134943e+01 -3.21804142e+02 -1.37672077e+03 -4.69703842e+03\n",
            " -1.35757145e+04 -3.45608384e+04 -7.95871872e+04 -1.68958569e+05\n",
            " -3.35335733e+05 -6.28871771e+05 -1.12361586e+06 -1.92527697e+06\n",
            " -3.18040214e+06 -5.08697967e+06 -7.90642692e+06 -1.19768658e+07\n",
            " -1.77275286e+07 -2.56940716e+07 -3.65345090e+07 -5.10454105e+07\n",
            " -7.01779418e+07 -9.50532591e+07 -1.26976710e+08 -1.67450237e+08\n",
            " -2.18182316e+08 -2.81094744e+08 -3.58325517e+08 -4.52227033e+08\n",
            " -5.65358838e+08 -7.00474092e+08 -8.60498962e+08 -1.04850413e+09\n",
            " -1.26766764e+09 -1.52122833e+09 -1.81242907e+09 -2.14444921e+09\n",
            " -2.52032552e+09 -2.94286107e+09 -3.41452153e+09 -3.93731842e+09\n",
            " -4.51267896e+09 -5.14130216e+09 -5.82300095e+09 -6.55653015e+09\n",
            " -7.33940029e+09 -8.16767716e+09 -9.03576718e+09 -9.93618888e+09\n",
            " -1.08593305e+10 -1.17931940e+10 -1.27231263e+10 -1.36315371e+10\n",
            " -1.44976051e+10 -1.52969722e+10 -1.60014260e+10 -1.65785725e+10\n",
            " -1.69914982e+10 -1.71984231e+10 -1.71523449e+10 -1.68006753e+10\n",
            " -1.60848691e+10 -1.49400466e+10 -1.32946106e+10 -1.10698573e+10\n",
            " -8.17958399e+09 -4.52969228e+09 -1.77885875e+07  5.46721785e+09\n",
            "  1.20455185e+10  1.98468104e+10  2.90107010e+10  3.96871135e+10\n",
            "  5.20366910e+10  6.62312001e+10  8.24539317e+10  1.00900101e+11\n",
            "  1.21777245e+11  1.45305614e+11  1.71718565e+11  2.01262946e+11\n",
            "  2.34199483e+11  2.70803153e+11  3.11363564e+11  3.56185319e+11\n",
            "  4.05588387e+11  4.59908457e+11  5.19497297e+11  5.84723098e+11\n",
            "  6.55970825e+11  7.33642548e+11  8.18157783e+11  9.09953810e+11\n",
            "  1.00948600e+12  1.11722815e+12  1.23367274e+12  1.35933131e+12]\n"
          ]
        },
        {
          "output_type": "execute_result",
          "data": {
            "text/plain": [
              "<matplotlib.collections.PathCollection at 0x7f7d1753db20>"
            ]
          },
          "metadata": {},
          "execution_count": 20
        },
        {
          "output_type": "display_data",
          "data": {
            "text/plain": [
              "<Figure size 432x288 with 1 Axes>"
            ],
            "image/png": "[encoded data removed]"
          },
          "metadata": {
            "needs_background": "light"
          }
        }
      ]
    },
    {
      "cell_type": "code",
      "source": [],
      "metadata": {
        "id": "N1pRbgNQcQK7"
      },
      "execution_count": 9,
      "outputs": []
    },
    {
      "cell_type": "markdown",
      "source": [
        "Método compuesto de Simpson: \n",
        "\n",
        "\n",
        "\n",
        "$$\n",
        "\\int_a^b dx\\,f(x) = \\frac{h}{3}\\left[f(a) + 2\\sum_{i=1}^{n/2-1} f(x_{2i}) + 4\\sum_{i=1}^{n/2} f(x_{2i-1}) + f(b)\\right]- \\frac{h^4 (b-a)}{180}f''(\\mu)\n",
        "$$\n",
        "\n"
      ],
      "metadata": {
        "id": "wPWO4UHV_Lq8"
      }
    },
    {
      "cell_type": "code",
      "source": [
        "x = np.linspace(0,4,10)\n",
        "plt.fill_between(x, (1/(np.sqrt(((x)**2)+16))), alpha = 0.3)\n",
        "\n",
        "h = 2/5\n",
        "def poly(x):\n",
        "    ind = int(x/(2*h))\n",
        "    Lo = (x - h*(2*ind+1))*(x - h*(2*ind+2))/(2*h*h)\n",
        "    L1 = -(x - h*(2*ind))*(x - h*(2*ind+2))/(h*h)\n",
        "    L2 = (x - h*(2*ind))*(x - h*(2*ind+1))/(2*h*h)\n",
        "    return (1/(((2*h*ind)**2)+16)**0.5)*Lo + (1/((((h*(2*ind+1)))**2)+16)**0.5)*L1 + (1/((((h*(h*(2*ind+2)))**2)+16)**0.5))*L2\n",
        "plt.fill_between(x, [poly(xi) for xi in x], alpha = 0.3)\n",
        "\n",
        "xp = np.arange(10)*h\n",
        "plt.scatter(xp, (1/(np.sqrt(((xp)**2)+16))))"
      ],
      "metadata": {
        "colab": {
          "base_uri": "https://localhost:8080/",
          "height": 283
        },
        "id": "OyaDsgaa_i58",
        "outputId": "51e2c9b9-8d0d-430e-8a2d-eaec8f156f21"
      },
      "execution_count": 13,
      "outputs": [
        {
          "output_type": "execute_result",
          "data": {
            "text/plain": [
              "<matplotlib.collections.PathCollection at 0x7f32125d4a00>"
            ]
          },
          "metadata": {},
          "execution_count": 13
        },
        {
          "output_type": "display_data",
          "data": {
            "text/plain": [
              "<Figure size 432x288 with 1 Axes>"
            ],
            "image/png": "[encoded data removed]"
          },
          "metadata": {
            "needs_background": "light"
          }
        }
      ]
    },
    {
      "cell_type": "markdown",
      "source": [
        "El método compuesto de Simpson:"
      ],
      "metadata": {
        "id": "7-izys-mAd2B"
      }
    },
    {
      "cell_type": "code",
      "source": [
        "def simpson(f,a,b,n):\n",
        "        h = (b - a)/n\n",
        "        fx = f(np.linspace(a+h, b-h, n-1, endpoint=True))\n",
        "        return (h/3)*(f(a) + 2*sum(2*fx+1) + 4*sum(2*fx-1) + f(b))\n"
      ],
      "metadata": {
        "id": "vhSdPyRHAahY"
      },
      "execution_count": 14,
      "outputs": []
    },
    {
      "cell_type": "code",
      "source": [
        "simpson(funcion, 0, 4, 100)"
      ],
      "metadata": {
        "colab": {
          "base_uri": "https://localhost:8080/"
        },
        "id": "w8TRfUMxBemH",
        "outputId": "85ba1355-6a88-4c5a-8b9a-dfa63998c9a1"
      },
      "execution_count": 15,
      "outputs": [
        {
          "output_type": "execute_result",
          "data": {
            "text/plain": [
              "0.8570307832639769"
            ]
          },
          "metadata": {},
          "execution_count": 15
        }
      ]
    },
    {
      "cell_type": "code",
      "source": [
        "\n",
        "errs = ((h**4)*4/180)*((2*((x**2) - 8)/((16+(x**2))**(5/2))))\n",
        "print(errs)\n",
        "h = np.arange(100)*h\n",
        "plt.scatter(h**4, errs)\n",
        "  "
      ],
      "metadata": {
        "colab": {
          "base_uri": "https://localhost:8080/",
          "height": 753
        },
        "id": "m5dqEQ57B1nR",
        "outputId": "fabafa08-bf49-4afd-8233-096c45f489d6"
      },
      "execution_count": 19,
      "outputs": [
        {
          "output_type": "stream",
          "name": "stdout",
          "text": [
            "[-0.00000000e+00 -8.88480854e-06 -3.63420791e-02 -4.70443696e+00\n",
            " -1.48038982e+02 -2.14536095e+03 -1.90317880e+04 -1.20294285e+05\n",
            " -5.93132019e+05 -2.41870572e+06 -8.48929997e+06 -2.63863724e+07\n",
            " -7.41708988e+07 -1.91586204e+08 -4.60424821e+08 -1.03964957e+09\n",
            " -2.22326223e+09 -4.53194271e+09 -8.85317411e+09 -1.66489294e+10\n",
            " -3.02549822e+10 -5.33014266e+10 -9.12898979e+10 -1.52369053e+11\n",
            " -2.48355806e+11 -3.96055246e+11 -6.18936632e+11 -9.49225828e+11\n",
            " -1.43047541e+12 -2.12067170e+12 -3.09593246e+12 -4.45483906e+12\n",
            " -6.32343156e+12 -8.86087398e+12 -1.22657679e+13 -1.67830561e+13\n",
            " -2.27114118e+13 -3.04109526e+13 -4.03110516e+13 -5.29179383e+13\n",
            " -6.88216889e+13 -8.87021018e+13 -1.13332832e+14 -1.43583020e+14\n",
            " -1.80415509e+14 -2.24880557e+14 -2.78103792e+14 -3.41266940e+14\n",
            " -4.15579626e+14 -5.02240357e+14 -6.02384479e+14 -7.17016693e+14\n",
            " -8.46925381e+14 -9.92575714e+14 -1.15397819e+15 -1.33052889e+15\n",
            " -1.52081749e+15 -1.72239844e+15 -1.93152078e+15 -2.14281118e+15\n",
            " -2.34890472e+15 -2.54001741e+15 -2.70345399e+15 -2.82304408e+15\n",
            " -2.87849944e+15 -2.84468448e+15 -2.69079175e+15 -2.37941370e+15\n",
            " -1.86550145e+15 -1.09520089e+15 -4.55577584e+12  1.48193276e+15\n",
            "  3.45290166e+15  6.01188805e+15  9.27927029e+15  1.33944008e+16\n",
            "  1.85179439e+16  2.48344330e+16  3.25550603e+16  4.19207159e+16\n",
            "  5.32052902e+16  6.67192557e+16  8.28135463e+16  1.01883749e+17\n",
            "  1.24374629e+17  1.50785001e+17  1.81672971e+17  2.17661566e+17\n",
            "  2.59444772e+17  3.07793998e+17  3.63564988e+17  4.27705212e+17\n",
            "  5.01261740e+17  5.85389635e+17  6.81360894e+17  7.90573937e+17\n",
            "  9.14563697e+17  1.05501232e+18  1.21376049e+18  1.39281945e+18]\n"
          ]
        },
        {
          "output_type": "execute_result",
          "data": {
            "text/plain": [
              "<matplotlib.collections.PathCollection at 0x7f7d17569670>"
            ]
          },
          "metadata": {},
          "execution_count": 19
        },
        {
          "output_type": "display_data",
          "data": {
            "text/plain": [
              "<Figure size 432x288 with 1 Axes>"
            ],
            "image/png": "[encoded data removed]"
          },
          "metadata": {
            "needs_background": "light"
          }
        }
      ]
    },
    {
      "cell_type": "code",
      "source": [
        "plt.plot(h, errs, label = 'error metodo de simpson')\n",
        "plt.plot(h, errt, label = 'error metodo del trapecio')\n",
        "plt.legend()"
      ],
      "metadata": {
        "colab": {
          "base_uri": "https://localhost:8080/",
          "height": 307
        },
        "id": "Z-g-MFU2CYXv",
        "outputId": "bb0d554c-18e2-4e2e-de81-71a2295c50c9"
      },
      "execution_count": 21,
      "outputs": [
        {
          "output_type": "execute_result",
          "data": {
            "text/plain": [
              "<matplotlib.legend.Legend at 0x7f7d1749aa90>"
            ]
          },
          "metadata": {},
          "execution_count": 21
        },
        {
          "output_type": "display_data",
          "data": {
            "text/plain": [
              "<Figure size 432x288 with 1 Axes>"
            ],
            "image/png": "[encoded data removed]"
          },
          "metadata": {
            "needs_background": "light"
          }
        }
      ]
    },
    {
      "cell_type": "markdown",
      "source": [
        "Se puede ver que el error es mayor con el método de Simpson, y si comparamos con el valor real como error relativo, tiene sentido. El valor real de la integral es 0.88137, y el error lo compararemos de unaa forma más simple y cotidiana:"
      ],
      "metadata": {
        "id": "6qoYfNtahk9B"
      }
    },
    {
      "cell_type": "code",
      "source": [
        "e_rel_sim = abs((0.88137 - 0.8570307832639769)/0.88137)"
      ],
      "metadata": {
        "colab": {
          "base_uri": "https://localhost:8080/"
        },
        "id": "XDTfyAhViAdo",
        "outputId": "67cf1db0-bc41-4d2f-f23b-27683e7f4451"
      },
      "execution_count": 25,
      "outputs": [
        {
          "output_type": "execute_result",
          "data": {
            "text/plain": [
              "0.02761520897695988"
            ]
          },
          "metadata": {},
          "execution_count": 25
        }
      ]
    },
    {
      "cell_type": "code",
      "source": [
        "e_rel_trap = abs((0.88137 - 0.8810789225522291)/0.88137)\n",
        "e_rel_trap"
      ],
      "metadata": {
        "colab": {
          "base_uri": "https://localhost:8080/"
        },
        "id": "okGMoj5NjsiP",
        "outputId": "92890c31-e984-46a0-8994-41d930a1872d"
      },
      "execution_count": 35,
      "outputs": [
        {
          "output_type": "execute_result",
          "data": {
            "text/plain": [
              "0.00033025567896672724"
            ]
          },
          "metadata": {},
          "execution_count": 35
        }
      ]
    }
  ]
}