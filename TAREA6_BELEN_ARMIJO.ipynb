{
  "cells": [
    {
      "cell_type": "markdown",
      "metadata": {
        "id": "bqrJKsf44f4a"
      },
      "source": [
        "**Tarea 6.6**\n",
        "\n",
        "Use el método de bisección para encontrar un cero de la función \n",
        "\n",
        "$$\n",
        "f(x) = 1 - \\cos(x) -\\frac{\\sin(x)}{x}\n",
        "$$\n",
        "\n",
        "entre $-6.5$ y $-6.0$. Grafique el error relativo requerido al calcular el cero en función del número de iteraciones que necesita el método para converger. Compare con la cota teórica."
      ]
    },
    {
      "cell_type": "code",
      "execution_count": 36,
      "metadata": {
        "colab": {
          "base_uri": "https://localhost:8080/",
          "height": 476
        },
        "id": "xL6tfddvpWXv",
        "outputId": "e2aca1a5-163a-45e2-f08a-d702e75df990"
      },
      "outputs": [
        {
          "name": "stdout",
          "output_type": "stream",
          "text": [
            "p = -6.25, error = 0.04, iteraciones = 0\n",
            "p = -6.375, error = 0.0196078431372549, iteraciones = 1\n",
            "p = -6.3125, error = 0.009900990099009901, iteraciones = 2\n",
            "p = -6.28125, error = 0.004975124378109453, iteraciones = 3\n",
            "p = -6.296875, error = 0.0024813895781637717, iteraciones = 4\n",
            "p = -6.2890625, error = 0.0012422360248447205, iteraciones = 5\n",
            "p = -6.28515625, error = 0.0006215040397762585, iteraciones = 6\n",
            "p = -6.283203125, error = 0.00031084861672365556, iteraciones = 7\n",
            "p = -6.2822265625, error = 0.000155448468832582, iteraciones = 8\n",
            "p = -6.28271484375, error = 7.771819382917541e-05, iteraciones = 9\n",
            "0.0009765625\n"
          ]
        },
        {
          "data": {
            "image/png": "[encoded data removed]",
            "text/plain": [
              "<Figure size 432x288 with 1 Axes>"
            ]
          },
          "metadata": {
            "needs_background": "light"
          },
          "output_type": "display_data"
        }
      ],
      "source": [
        "import numpy as np\n",
        "import matplotlib.pyplot as plt\n",
        "\n",
        "\n",
        "\n",
        "def func(x):\n",
        "  '''\n",
        "  Se define la función asignada, junto con su operación.\n",
        "  '''\n",
        "\n",
        "  return 1 - np.cos(x) - np.sin(x)/x \n",
        "\n",
        "\n",
        "def biseccion(f, a, b, epsilon, N=1000000):\n",
        "  '''\n",
        "  Se define la función de bisección, la cual tiene la variable f\n",
        "  que es la función, la variable a y b que son los extremos a analizar, \n",
        "  epsilon corresponde al error que se le asigna, y N el numero máximo de iteraciones.\n",
        "  '''\n",
        "  error_relativo = []  #arreglo vacío al cual se le irá agregando valores de error.\n",
        "  pp = a\n",
        "  \n",
        "  for i in range(N):\n",
        "      p = a + (b - a)/2\n",
        "      error_relativo.append(abs(p - pp)/abs(p))\n",
        "      print(f'p = {p}, error = {error_relativo[-1]}, iteraciones = {i}')\n",
        "      if error_relativo[-1] < epsilon:\n",
        "          return p, error_relativo, i\n",
        "      elif f(p)*f(a) > 0:\n",
        "          a = p\n",
        "      else:\n",
        "          b = p\n",
        "      pp = p\n",
        "  print(\"No se encontró el cero después de\", N, \"iteraciones.\")\n",
        "  \n",
        "\n",
        "p, error_relativo, iteraciones = biseccion(func, -6.5, -6.0, 0.0001)\n",
        "print(((-6.0) -(-6.5))/(2**iteraciones)) #imprime el valor de la cota teórica\n",
        "x = np.linspace(-6.5, -6, iteraciones +1) #da eje x en el gráfico y sus valores separados por iteraciones\n",
        "plt.errorbar(x, func(x), yerr = error_relativo, ecolor = 'red', elinewidth = 3, capsize = 0) \n",
        "#error relativo corresponde al errorbar \n",
        "plt.xlabel('Puntos de búsqueda de cero')\n",
        "plt.ylabel('Valor de f(x)')\n",
        "plt.show()\n"
      ]
    },
    {
      "cell_type": "markdown",
      "metadata": {
        "id": "NqDmZmht_u8t"
      },
      "source": [
        "Se puede ver que mientras más iteraciones demore el código en encontrar el cero, menor será el valor de la cota teórica, tendiendo a 0 cuando N tienda a infinito."
      ]
    },
    {
      "cell_type": "markdown",
      "metadata": {},
      "source": [
        "# Calificación: 6.8"
      ]
    },
    {
      "cell_type": "markdown",
      "metadata": {},
      "source": [
        "Faltó comparar el error real con la cota."
      ]
    },
    {
      "cell_type": "markdown",
      "metadata": {},
      "source": []
    }
  ],
  "metadata": {
    "colab": {
      "provenance": []
    },
    "kernelspec": {
      "display_name": "Python 3",
      "language": "python",
      "name": "python3"
    },
    "language_info": {
      "name": "python",
      "version": "3.10.6 (main, Nov  2 2022, 18:53:38) [GCC 11.3.0]"
    },
    "vscode": {
      "interpreter": {
        "hash": "916dbcbb3f70747c44a77c7bcd40155683ae19c65e1c03b4aa3499c5328201f1"
      }
    }
  },
  "nbformat": 4,
  "nbformat_minor": 0
}
