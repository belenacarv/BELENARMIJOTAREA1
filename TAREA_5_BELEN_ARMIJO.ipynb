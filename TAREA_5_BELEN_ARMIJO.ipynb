{
 "cells": [
  {
   "cell_type": "markdown",
   "metadata": {
    "id": "xwwrcy-TrRHs"
   },
   "source": [
    "Tarea asignada 5.4\n",
    "\n",
    "En una cierta población, el 20% de las personas tiene una enfermedad. Se hace un examen a los miembros de la población que tiene la característica de dar positivo el 90% de las veces si la persona tiene la enfermedad y el 30% de las veces si la persona no tiene la enfermedad (falso positivo). A los que dan positivo se les suministra una droga que puede causar manchas rojas en la piel en un 20% de los pacientes.\n",
    "\n",
    "Si una persona tiene esas manchas rojas. ¿Cuál es la probabilidad de que haya tenido la enfermedad?"
   ]
  },
  {
   "cell_type": "code",
   "execution_count": 1,
   "metadata": {
    "colab": {
     "base_uri": "https://localhost:8080/"
    },
    "id": "-Nsqo0H8rQPz",
    "outputId": "ad53dc41-0044-417c-f526-4bb9dc9ad4e3"
   },
   "outputs": [
    {
     "name": "stdout",
     "output_type": "stream",
     "text": [
      "Probabilidad de que al tener manchas haya tenido la enfermedad: 0.4285714285714286\n"
     ]
    }
   ],
   "source": [
    "\n",
    "P_enfermo = 0.2  #se asignan los porcentajes en rango de 0 a 1 según los datos de la pregunta.\n",
    "P_sano = 0.8\n",
    "P_positivo = 0.9\n",
    "P_falsonegativo = 0.1\n",
    "P_falsopositivo = 0.3\n",
    "P_negativo = 0.7\n",
    "P_manchas = 0.2\n",
    "P_sinmanchas = 0.8\n",
    "\n",
    "def prueba_y_persona(resultado, persona):\n",
    "\n",
    "  '''\n",
    "  Esta función sirve para identificar cada caso y retornar \n",
    "  el porcentaje correcto de la población segun cada caso. \n",
    "\n",
    "  '''\n",
    "  if(persona ==\"enfermo\"):\n",
    "    if(resultado ==\"positivo\"):\n",
    "      return P_enfermo*P_positivo  #retornará el porcentaje de personas que están enfermas con examen positivo\n",
    "    if(resultado==\"negativo\"):\n",
    "      return P_enfermo*P_falsonegativo #retornará el porcentaje de personas enfermas con examen negativo (o falso negativo)\n",
    "  elif(persona==\"sano\"):\n",
    "    if (resultado ==\"positivo\"):\n",
    "      return P_sano*P_falsopositivo   #retornará el porcentaje de personas sanas con examen falso positivo\n",
    "    if (resultado ==\"negativo\"):\n",
    "      return P_sano*P_negativo    #retornará el porcentaje de personas sanas con examen negativo\n",
    "\n",
    "def p_manchas_dado_persona(persona):\n",
    "  '''\n",
    "  En esta función sólo nos enfocaremos en las personas con resultado POSITIVO, ya que\n",
    "  son este grupo de la población a quienes se les administra el medicamento que ocasionará\n",
    "  las manchas rojas.\n",
    "  '''\n",
    "  resultado = \"positivo\"\n",
    "  total = prueba_y_persona(resultado, \"enfermo\")*P_manchas + prueba_y_persona(resultado, \"sano\")* P_manchas #se suma el total de personas con manchas \n",
    "  return prueba_y_persona(resultado, persona)*P_manchas/total #retorna la probabilidad de que la persona tenga manchas segun esté sano o enfermo\n",
    "\n",
    "#El print de abajo imprimirá el resultado de la pregunta, entonces a la persona se le asigna el valor \"enfermo\" inmediatamente\n",
    "print(f'Probabilidad de que al tener manchas haya tenido la enfermedad: {p_manchas_dado_persona(persona = \"enfermo\")}')"
   ]
  },
  {
   "cell_type": "markdown",
   "metadata": {},
   "source": [
    "# Calificacion: 7.0"
   ]
  }
 ],
 "metadata": {
  "colab": {
   "provenance": []
  },
  "kernelspec": {
   "display_name": "Python 3",
   "language": "python",
   "name": "python3"
  },
  "language_info": {
   "codemirror_mode": {
    "name": "ipython",
    "version": 3
   },
   "file_extension": ".py",
   "mimetype": "text/x-python",
   "name": "python",
   "nbconvert_exporter": "python",
   "pygments_lexer": "ipython3",
   "version": "3.8.3"
  },
  "toc": {
   "base_numbering": 1,
   "nav_menu": {},
   "number_sections": true,
   "sideBar": true,
   "skip_h1_title": false,
   "title_cell": "Table of Contents",
   "title_sidebar": "Contents",
   "toc_cell": false,
   "toc_position": {},
   "toc_section_display": true,
   "toc_window_display": false
  }
 },
 "nbformat": 4,
 "nbformat_minor": 1
}
