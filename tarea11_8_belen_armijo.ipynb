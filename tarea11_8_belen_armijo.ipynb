{
  "nbformat": 4,
  "nbformat_minor": 0,
  "metadata": {
    "colab": {
      "provenance": []
    },
    "kernelspec": {
      "name": "python3",
      "display_name": "Python 3"
    },
    "language_info": {
      "name": "python"
    }
  },
  "cells": [
    {
      "cell_type": "markdown",
      "source": [
        "Use el método de Adams-Moulton de tres pasos descrito en clase para resolver el siguiente problema de valor inicial:\n",
        "\n",
        "$$\n",
        "y'(t) = te^{3t} - 2y\\,,\\quad 0 \\leq t \\leq 1\\,, \\quad y(0) = 0\\,.\n",
        "$$\n",
        "\n",
        "Recuerde que este método usa $w_{i+1}$ para calcular $w_{i+1}$ tal que es necesario resolver algebráicamente la ecuación resultante y así obtener una expresión explícita para $w_{i + 1}$ que se pueda usar en el código."
      ],
      "metadata": {
        "id": "r6bvNLUaslHa"
      }
    },
    {
      "cell_type": "code",
      "source": [
        "\n",
        "\n",
        "import numpy as np\n",
        "import matplotlib.pyplot as plt\n",
        "import sympy as sy\n",
        "\n",
        "#Definimos la función \n",
        "def f(t,y):\n",
        "    return t*np.exp(3*t) - 2*y\n",
        "\n",
        "\n",
        "#Usamos la ecuacion definida de Adams-Moulton vista en clase\n",
        "\n",
        "def apc4(f, a, b, yo, N):\n",
        "    \n",
        "    h = (b-a)/N\n",
        "    i = 0\n",
        "    w = yo\n",
        "    t = a\n",
        "    \n",
        "    ws = np.zeros(N+1)\n",
        "    ts = np.zeros(N+1)\n",
        "    fi = 0\n",
        "    fim1 = 0\n",
        "    fim2 = 0\n",
        "    fim3 = 0\n",
        "    \n",
        "    for i in range(N):\n",
        "        ts[i] = t\n",
        "        ws[i] = w\n",
        "        fim3 = fim2\n",
        "        fim2 = fim1\n",
        "        fim1 = fi\n",
        "        fi = f(t,w)\n",
        "        if i < 3:\n",
        "            w += rk4_step(f, fi, t, w, h)\n",
        "        else:\n",
        "            # Predictor Adams-Bashforth de 4 pasos\n",
        "            #w = ws[i] + h*(55*fi - 59*fim1 +37*fim2 - 9*fim3)/24\n",
        "            # Corrector Adams-Moulton de 3 pasos\n",
        "            w = ws[i] + h*(9*f(t + h, w) + 19*fi - 5*fim1 + fim2)/24\n",
        "        t += h\n",
        "        \n",
        "    ws[N] = w\n",
        "    ts[N] = t\n",
        "    \n",
        "    return ts, ws\n",
        "\n",
        "\n",
        "a = 0\n",
        "b = 2\n",
        "yo = 0.5\n",
        "\n",
        "def exacta(t):\n",
        "    return (t + 1)**2 - 0.5*np.exp(t)"
      ],
      "metadata": {
        "id": "G2EYmys5s8lr"
      },
      "execution_count": 23,
      "outputs": []
    },
    {
      "cell_type": "markdown",
      "source": [
        "En esta función f es la ecuación diferencial, a es 0, b es 1, y0 es 0, y N la cantidad de intervalos dentro de [a,b]. No usaremos el predictor de Adams-Bashfort solo porque no se pidió el predictor en este caso.\n",
        "Luego se grafica:"
      ],
      "metadata": {
        "id": "7tXl7Oeitvvo"
      }
    },
    {
      "cell_type": "code",
      "source": [
        "sol_apc = apc4(f, a, b, yo, 10)\n",
        "plt.plot(sol_apc[0], sol_apc[1] - exacta(sol_apc[0]), label='APC4')"
      ],
      "metadata": {
        "colab": {
          "base_uri": "https://localhost:8080/",
          "height": 283
        },
        "id": "w4UqsSKKuE86",
        "outputId": "43bdd9ce-ba5f-4dc5-b454-b1f59218e6de"
      },
      "execution_count": 24,
      "outputs": [
        {
          "output_type": "execute_result",
          "data": {
            "text/plain": [
              "[<matplotlib.lines.Line2D at 0x7f457e5357c0>]"
            ]
          },
          "metadata": {},
          "execution_count": 24
        },
        {
          "output_type": "display_data",
          "data": {
            "text/plain": [
              "<Figure size 432x288 with 1 Axes>"
            ],
            "image/png": "[encoded data removed]"
          },
          "metadata": {
            "needs_background": "light"
          }
        }
      ]
    }
  ]
}