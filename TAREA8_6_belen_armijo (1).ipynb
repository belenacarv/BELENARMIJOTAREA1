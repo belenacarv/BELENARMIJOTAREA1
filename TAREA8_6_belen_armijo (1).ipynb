{
  "nbformat": 4,
  "nbformat_minor": 0,
  "metadata": {
    "colab": {
      "provenance": []
    },
    "kernelspec": {
      "name": "python3",
      "display_name": "Python 3"
    },
    "language_info": {
      "name": "python"
    }
  },
  "cells": [
    {
      "cell_type": "markdown",
      "source": [
        "Los siguientes datos corresponden al cálculo numérico de una cierta propiedad estadística de la distribución de materia en el universo (el espectro de potencias) $P(k)$ en función del modo de Fourier $k$. Use la derivada numérica para encontrar $d \\ln P/d\\ln k$ en cada punto. Para estimar el error cometido en esta derivada numérica compare el resultado de la fórmula a tres puntos con el resultado de la fórmula a cinco puntos. Será necesario usar las fórmulas a tres y cinco puntos en los extremos que se encuentran en este mismo notebook."
      ],
      "metadata": {
        "id": "3UbqnRBaUYJ2"
      }
    },
    {
      "cell_type": "code",
      "execution_count": 2,
      "metadata": {
        "id": "BYGFrxtuTrs7"
      },
      "outputs": [],
      "source": [
        "import numpy as np\n",
        "import matplotlib.pyplot as plt\n",
        "\n",
        "\n",
        "datos = np.array([       [5.531683013105e-04,       1.070304113861e+12], \n",
        "       [5.910227121702e-04,       1.139622191891e+12], \n",
        "       [6.315688849627e-04,       1.213481232452e+12], \n",
        "       [6.750065137883e-04,       1.292169597309e+12], \n",
        "       [7.215301959429e-04,       1.375954296780e+12], \n",
        "       [7.713235180257e-04,       1.465069697719e+12], \n",
        "       [8.245525173319e-04,       1.559705507566e+12], \n",
        "       [8.813589235833e-04,       1.659994890361e+12], \n",
        "       [9.418537183337e-04,       1.766003776663e+12], \n",
        "       [1.006111625261e-03,       1.877722471320e+12], \n",
        "       [1.074167130425e-03,       1.995060685935e+12], \n",
        "       [1.146012510269e-03,       2.117846703996e+12], \n",
        "       [1.221598126720e-03,       2.245831037960e+12], \n",
        "       [1.300834972303e-03,       2.378694410099e+12], \n",
        "       [1.383599172303e-03,       2.516052095865e+12], \n",
        "       [1.469737934874e-03,       2.657475892684e+12], \n",
        "       [1.559076324033e-03,       2.802524407596e+12], \n",
        "       [1.651424225675e-03,       2.950729179407e+12], \n",
        "       [1.746582964833e-03,       3.101618970269e+12], \n",
        "       [1.844351177716e-03,       3.254730780491e+12], \n",
        "       [1.944529704896e-03,       3.409618695392e+12], \n",
        "       [2.046925420592e-03,       3.565860320889e+12], \n",
        "       [2.151354028418e-03,       3.723061333248e+12], \n",
        "       [2.257641930146e-03,       3.880858018481e+12] ])\n",
        "\n",
        "\n",
        "\n"
      ]
    },
    {
      "cell_type": "markdown",
      "source": [
        "Se quiere encontrar \n",
        "$$ \\frac{d(ln(P))}{d(ln(k))} \n",
        "$$\n",
        "y sabemos que el logaritmo de x es: $$\\frac {1}{x}$$\n",
        "Entonces: \n",
        "\n",
        "$$ \\frac{d(ln(P))}{d(ln(k))} = \\frac{k}{P} \\frac{dP}{dk}\n",
        "$$\n",
        "\n"
      ],
      "metadata": {
        "id": "9u4xgCJUgI7W"
      }
    },
    {
      "cell_type": "code",
      "source": [
        "#se leen los datos de la tabla, por columna\n",
        "p = datos[:,[0]]\n",
        "k = datos[:,[1]]\n",
        "P2 = np.transpose(p, (1, 0))\n",
        "K2 = np.transpose(k, (1, 0))\n",
        "\n",
        "\n",
        "\n",
        "\n",
        "# Se definen las derivadas respectivas\n",
        "\n",
        "\n",
        "def deriv3_datos(fxo, fx2, h):\n",
        "    return (fx2 - fxo)/(2*h)\n",
        "\n",
        "def deriv3_borde_datos(fxo, fx1, fx2, h):\n",
        "    return (-3*fxo + 4*fx1 - fx2)/(2*h)\n",
        "\n",
        "def deriv_datos(fx, h):\n",
        "    \n",
        "    n = len(fx)\n",
        "    deriv = np.zeros(n)\n",
        "    for i in range(n):\n",
        "        if i == 0:\n",
        "            deriv[i] = deriv3_borde_datos(fx[0], fx[1], fx[2], h)\n",
        "        elif i == n - 1:\n",
        "            deriv[i] = deriv3_borde_datos(fx[n-1], fx[n-2], fx[n-3], -h)\n",
        "        else:\n",
        "            deriv[i] = deriv3_datos(fx[i-1], fx[i+1], h)\n",
        "    return deriv\n",
        "    \n",
        "\n",
        "def deriv5p(fxo, fx1, fx3, fx4, h):\n",
        "    return (fxo - 8*fx1 + 8*fx3 - fx4)/(12*h)\n",
        "\n",
        "def deriv5p_extremo(fxo, fx1, fx2, fx3, fx4, h):\n",
        "    return (-25*fxo + 48*fx1 - 36*fx2 + 16*fx3 - 3*fx4)/(12*h)\n",
        "\n",
        "def deriv_5_datos(fx, h):\n",
        "    \n",
        "    n = len(fx)\n",
        "    deriv = np.zeros(n)\n",
        "    for i in range(n):\n",
        "        if i < 1 :\n",
        "            deriv[i] = deriv5p_extremo(fx[0], fx[1], fx[2], fx[3], fx[4], h)\n",
        "        elif i > n - 3:\n",
        "            deriv[i] = deriv5p_extremo(fx[n-3], fx[n-4], fx[n-5], fx[n-6], fx[n-7], -h)\n",
        "        else:\n",
        "            deriv[i] = deriv5p(fx[i-2], fx[i-1], fx[i+1], fx[i+2], h)\n",
        "    return deriv\n",
        "\n",
        "m = 1000\n",
        "deriv3puntosdeP = deriv_datos(p, m)\n",
        "deriv3puntosdeK = deriv_datos(k, m)\n",
        "deriv5puntosP = deriv_5_datos(p, m)\n",
        "deriv5puntosk = deriv_5_datos(k, m)\n",
        "deriv5puntosP\n"
      ],
      "metadata": {
        "id": "7PgAF1BmLE5K",
        "colab": {
          "base_uri": "https://localhost:8080/"
        },
        "outputId": "b5a7d54d-69ed-4967-a0e5-f1d26951b621"
      },
      "execution_count": 3,
      "outputs": [
        {
          "output_type": "execute_result",
          "data": {
            "text/plain": [
              "array([3.65763688e-08, 1.84153340e-07, 4.19590432e-08, 4.49491402e-08,\n",
              "       4.81293668e-08, 5.14855134e-08, 5.49966435e-08, 5.86351251e-08,\n",
              "       6.23672500e-08, 6.61544758e-08, 6.99552226e-08, 7.37270519e-08,\n",
              "       7.74289712e-08, 8.10235783e-08, 8.44787919e-08, 8.77689967e-08,\n",
              "       9.08755445e-08, 9.37866570e-08, 9.64968530e-08, 9.90060605e-08,\n",
              "       1.01318573e-07, 1.03441986e-07, 1.03441443e-07, 1.03441443e-07])"
            ]
          },
          "metadata": {},
          "execution_count": 3
        }
      ]
    },
    {
      "cell_type": "code",
      "source": [
        "datos3 = (K2/P2)*(deriv3puntosdeP/deriv3puntosdeK)\n",
        "datos5 = (K2/P2)*(deriv5puntosP/deriv5puntosk)\n",
        "\n",
        "d3p = np.transpose(datos3, (1, 0))\n",
        "d5p = np.transpose(datos5, (1, 0))\n",
        "\n",
        "plt.plot(d3p -p, label = 'derivada 3 puntos')\n",
        "plt.plot(d5p -p, label = 'derivada 5 puntos')\n",
        "plt.legend()\n",
        "\n",
        "#Se grafica la diferencia entre las derivadas."
      ],
      "metadata": {
        "colab": {
          "base_uri": "https://localhost:8080/",
          "height": 283
        },
        "id": "2PqulphUkTxB",
        "outputId": "b7c025ec-2a4c-4d9b-a931-fedea90c50c0"
      },
      "execution_count": 4,
      "outputs": [
        {
          "output_type": "execute_result",
          "data": {
            "text/plain": [
              "<matplotlib.legend.Legend at 0x7f4556e05290>"
            ]
          },
          "metadata": {},
          "execution_count": 4
        },
        {
          "output_type": "display_data",
          "data": {
            "text/plain": [
              "<Figure size 432x288 with 1 Axes>"
            ],
            "image/png": "[encoded data removed]"
          },
          "metadata": {
            "needs_background": "light"
          }
        }
      ]
    },
    {
      "cell_type": "code",
      "source": [
        "print('El arreglo con derivada a 3 puntos', d3p)\n",
        "print('El arreglo con derivada a 5 puntos', d5p)"
      ],
      "metadata": {
        "colab": {
          "base_uri": "https://localhost:8080/"
        },
        "id": "ckhlS7eGlkee",
        "outputId": "bb630d6a-bda7-437f-b9ec-5fa780418372"
      },
      "execution_count": 5,
      "outputs": [
        {
          "output_type": "stream",
          "name": "stdout",
          "text": [
            "El arreglo con derivada a 3 puntos [[1.05356428]\n",
            " [1.05585044]\n",
            " [1.05779873]\n",
            " [1.05995141]\n",
            " [1.06232455]\n",
            " [1.06493435]\n",
            " [1.06779716]\n",
            " [1.07092935]\n",
            " [1.07434727]\n",
            " [1.07806689]\n",
            " [1.08210331]\n",
            " [1.08647009]\n",
            " [1.09117817]\n",
            " [1.09626381]\n",
            " [1.10174904]\n",
            " [1.10756023]\n",
            " [1.11368225]\n",
            " [1.12015684]\n",
            " [1.12698012]\n",
            " [1.13414734]\n",
            " [1.14165323]\n",
            " [1.14949172]\n",
            " [1.1576559 ]\n",
            " [1.16579381]]\n",
            "El arreglo con derivada a 5 puntos [[1.05392715]\n",
            " [1.14111918]\n",
            " [1.05761276]\n",
            " [1.05975382]\n",
            " [1.06211604]\n",
            " [1.06471592]\n",
            " [1.06757017]\n",
            " [1.07069542]\n",
            " [1.07410831]\n",
            " [1.07782507]\n",
            " [1.08186097]\n",
            " [1.08622977]\n",
            " [1.09093751]\n",
            " [1.0960263 ]\n",
            " [1.10153267]\n",
            " [1.10735807]\n",
            " [1.11348477]\n",
            " [1.1199721 ]\n",
            " [1.12680857]\n",
            " [1.13398912]\n",
            " [1.14150832]\n",
            " [1.14935996]\n",
            " [1.14177978]\n",
            " [1.13414017]]\n"
          ]
        }
      ]
    },
    {
      "cell_type": "markdown",
      "source": [
        "Se puede ver en el gráfico y en los arreglos la variación en los extremos, lo cual puede suponer un mayor error al calcular la derivada. Sin embargo, en los valores del medio son más similares, acercándose a cero la diferencia entre estos.\n",
        "\n"
      ],
      "metadata": {
        "id": "aWujHYnGnbVF"
      }
    },
    {
      "cell_type": "code",
      "source": [
        "error = abs(d3p-d5p)/abs(d3p)\n",
        "plt.plot(error)"
      ],
      "metadata": {
        "colab": {
          "base_uri": "https://localhost:8080/",
          "height": 283
        },
        "id": "K9_jocJAnnw7",
        "outputId": "ce4c7252-2de8-43d0-a60f-3a49f3702b49"
      },
      "execution_count": 6,
      "outputs": [
        {
          "output_type": "execute_result",
          "data": {
            "text/plain": [
              "[<matplotlib.lines.Line2D at 0x7f45568e4f90>]"
            ]
          },
          "metadata": {},
          "execution_count": 6
        },
        {
          "output_type": "display_data",
          "data": {
            "text/plain": [
              "<Figure size 432x288 with 1 Axes>"
            ],
            "image/png": "[encoded data removed]"
          },
          "metadata": {
            "needs_background": "light"
          }
        }
      ]
    }
  ]
}