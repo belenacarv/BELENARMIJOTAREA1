{
  "cells": [
    {
      "cell_type": "markdown",
      "metadata": {
        "id": "x2fZwVmkjX1v"
      },
      "source": [
        "El modelo logístico de crecimimiento de poblaciones está descrito por una ecuación de la forma:\n",
        "\n",
        "$$\n",
        "P(t) = \\frac{P_L}{1 - ce^{-k t}}\\,.\n",
        "$$\n",
        "\n",
        "Use los datos correspondientes a 1960, 1970 y 1980 de la siguiente tabla para encontrar $c$, $k$ y $P_L$. Luego prediga los valores para 1990 y 2020. Compare la predicción para 1990 con los datos reales de la tabla.\n",
        "\n",
        "|Población| Año|\n",
        "|---------|----|\n",
        "|179 323  |1960|\n",
        "|203 302  |1970|\n",
        "|226 542  |1980|\n",
        "|249 633  |1990|\n",
        "|281 422  |2000|\n",
        "|308 746  |2010|"
      ]
    },
    {
      "cell_type": "markdown",
      "metadata": {
        "id": "JkimUBV2jl5J"
      },
      "source": [
        "Primero se ve la función de forma matemática, para luego utilizar el código que nos ayudará a encontrar los valores de c, k y $P_L$\n",
        "Se utilizará 1960 como t = 0.\n",
        "\n",
        "$$P(0)=\\frac{P_L}{(1-c)} = 179323$$\n",
        "$$P_L = 179323(1-c)$$\n",
        "$$P(10)=\\frac{P_L }{(1-ce^{-10k})}= 203302$$\n",
        "$$P(20)=\\frac{P_L }{(1-ce^{-20k})}= 226542 $$\n",
        "\n",
        "Luego reemplazando se puede igualar y luego despejar c, quedando:\n",
        "\n",
        "$$ c = \\frac {23979}{203302e^{-10k}-179323}$$\n",
        "\n",
        "\n",
        "Luego igualando los valores de $P_L$ se puede reemplazar el valor de c, y se iguala la función a cero. Quedando\n",
        "\n",
        "$$f(k) = \\frac{9599717138e^{-10k} - 4167466520 - 5432250618e^{-20k}}{203302e^{-10k}-179323}$$\n",
        "\n",
        "Podemos derivar el valor, quedando \n",
        "\n",
        "$$f'(k) = \\frac{479580e^{-10k}(-40624191066e^{10k} + 18228362273e^{20k} + 23028220842)}{(203302 - 179323e^{10k})^2}$$\n",
        "\n"
      ]
    },
    {
      "cell_type": "code",
      "execution_count": 26,
      "metadata": {
        "id": "l4aFkzytF4b4"
      },
      "outputs": [],
      "source": [
        "import numpy as np\n",
        "import math\n",
        "import matplotlib.pyplot as plt\n",
        "class MaxIterations(Exception):\n",
        "    pass\n",
        "\n",
        "def func(x):\n",
        "    return (9599717138*math.e**(-10*x) - 4167466520 - 5432250618*math.e**(-20*x))/(203302*math.e**(-10*x) -179323)\n",
        "def df(x):\n",
        "  return ((479580*math.e**(-10*x))*(-40624191066*math.e**(10*x) + 18228362273*math.e**(20*x) + 23028220842))/((203302- 179323*math.e**(10*x))**2)\n",
        "\n",
        "def newton(f, df, po, epsilon, N=100000000):\n",
        "    \n",
        "    for i in range(N):\n",
        "        p = po - f(po)/df(po)\n",
        "        if abs(p - po)/abs(p) < epsilon:\n",
        "            return p, i+1\n",
        "        po = p\n",
        "    \n",
        "    raise MaxIterations(\"No se encontró el cero luego de\", N, \"iteraciones.\")"
      ]
    },
    {
      "cell_type": "code",
      "execution_count": 31,
      "metadata": {
        "colab": {
          "base_uri": "https://localhost:8080/"
        },
        "id": "oUURE9BFVW9h",
        "outputId": "8da39e23-2baf-4918-8752-d2328536073a"
      },
      "outputs": [
        {
          "data": {
            "text/plain": [
              "(0.026504522450915387, 4)"
            ]
          },
          "execution_count": 31,
          "metadata": {},
          "output_type": "execute_result"
        }
      ],
      "source": [
        "newton(func, df, 0.03, 0.00001)"
      ]
    },
    {
      "cell_type": "markdown",
      "metadata": {
        "id": "5JxIdKlPnw6Y"
      },
      "source": [
        "Se encuentra el valor de k, con este método, sabemos en que punto es cero. Luego con todos estos datos podemos encontrar $P_L$ y hacer la función de modelo de crecimiento de poblaciones. \n",
        "\n",
        "Sabiendo que:\n",
        "$$c = -1.02669388389$$\n",
        "$$k = 0.0265045224509$$\n",
        "$$  P_L = 363432.827341 $$\n",
        "\n",
        "\n",
        "Y la función quedará en términos del tiempo, en años, y retornará la cantidad de población que se estima, en miles de personas."
      ]
    },
    {
      "cell_type": "code",
      "execution_count": 33,
      "metadata": {
        "id": "vW4sJ1pZhP2f"
      },
      "outputs": [],
      "source": [
        "def population(t):\n",
        "  return (363432.827341/(1+1.02669388*math.e**(-0.02650452245*t)))\n",
        "\n",
        "  "
      ]
    },
    {
      "cell_type": "code",
      "execution_count": 34,
      "metadata": {
        "colab": {
          "base_uri": "https://localhost:8080/"
        },
        "id": "tgRQ7Q2lhqRo",
        "outputId": "e26ac65b-5730-4ea7-d688-3b6f179f5841"
      },
      "outputs": [
        {
          "data": {
            "text/plain": [
              "248318.92849782167"
            ]
          },
          "execution_count": 34,
          "metadata": {},
          "output_type": "execute_result"
        }
      ],
      "source": [
        "population(30)"
      ]
    },
    {
      "cell_type": "markdown",
      "metadata": {
        "id": "yl5yKmoAhuii"
      },
      "source": [
        "Para 1990, se utilizó t = 30, con el valor real de 249633.\n",
        "Y su error fue de \n",
        "\n"
      ]
    },
    {
      "cell_type": "code",
      "execution_count": 35,
      "metadata": {
        "id": "NTejJStriQnN"
      },
      "outputs": [],
      "source": [
        "err = ((249633- population(30))/249633)"
      ]
    },
    {
      "cell_type": "code",
      "execution_count": 36,
      "metadata": {
        "colab": {
          "base_uri": "https://localhost:8080/"
        },
        "id": "mIukZY0yiZgY",
        "outputId": "467f5703-9ca7-457b-e616-c1d16268aea4"
      },
      "outputs": [
        {
          "data": {
            "text/plain": [
              "0.005264013580649695"
            ]
          },
          "execution_count": 36,
          "metadata": {},
          "output_type": "execute_result"
        }
      ],
      "source": [
        "err"
      ]
    },
    {
      "cell_type": "markdown",
      "metadata": {
        "id": "Q8Tl4dtDicNz"
      },
      "source": [
        "Esto quiere decir que la diferencia es de un 0,52% aproximadamente.\n",
        "\n",
        "\n",
        "Luego para el año 2020, usamos t = 60. "
      ]
    },
    {
      "cell_type": "code",
      "execution_count": 37,
      "metadata": {
        "colab": {
          "base_uri": "https://localhost:8080/"
        },
        "id": "yfZJ7TSei5W0",
        "outputId": "f1c39026-9490-46e1-9eea-3004b79b513a"
      },
      "outputs": [
        {
          "data": {
            "text/plain": [
              "300528.49477890745"
            ]
          },
          "execution_count": 37,
          "metadata": {},
          "output_type": "execute_result"
        }
      ],
      "source": [
        "population(60)"
      ]
    },
    {
      "cell_type": "markdown",
      "metadata": {
        "id": "hMU01xlRi60C"
      },
      "source": [
        "Este valor es menor al valor de la población en el año 2010, por lo que la población aumentó más que el resultado de la función. \n"
      ]
    },
    {
      "cell_type": "markdown",
      "metadata": {},
      "source": [
        "# Calificación: 7.0"
      ]
    },
    {
      "cell_type": "markdown",
      "metadata": {},
      "source": []
    }
  ],
  "metadata": {
    "colab": {
      "provenance": []
    },
    "kernelspec": {
      "display_name": "Python 3",
      "language": "python",
      "name": "python3"
    },
    "language_info": {
      "name": "python",
      "version": "3.10.6 (main, Nov  2 2022, 18:53:38) [GCC 11.3.0]"
    },
    "vscode": {
      "interpreter": {
        "hash": "916dbcbb3f70747c44a77c7bcd40155683ae19c65e1c03b4aa3499c5328201f1"
      }
    }
  },
  "nbformat": 4,
  "nbformat_minor": 0
}
