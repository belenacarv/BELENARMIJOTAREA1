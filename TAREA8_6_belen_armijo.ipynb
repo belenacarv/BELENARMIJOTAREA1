{
  "nbformat": 4,
  "nbformat_minor": 0,
  "metadata": {
    "colab": {
      "provenance": []
    },
    "kernelspec": {
      "name": "python3",
      "display_name": "Python 3"
    },
    "language_info": {
      "name": "python"
    }
  },
  "cells": [
    {
      "cell_type": "markdown",
      "source": [
        "Los siguientes datos corresponden al cálculo numérico de una cierta propiedad estadística de la distribución de materia en el universo (el espectro de potencias) $P(k)$ en función del modo de Fourier $k$. Use la derivada numérica para encontrar $d \\ln P/d\\ln k$ en cada punto. Para estimar el error cometido en esta derivada numérica compare el resultado de la fórmula a tres puntos con el resultado de la fórmula a cinco puntos. Será necesario usar las fórmulas a tres y cinco puntos en los extremos que se encuentran en este mismo notebook."
      ],
      "metadata": {
        "id": "3UbqnRBaUYJ2"
      }
    },
    {
      "cell_type": "code",
      "execution_count": 26,
      "metadata": {
        "colab": {
          "base_uri": "https://localhost:8080/"
        },
        "id": "BYGFrxtuTrs7",
        "outputId": "e5a2b6cc-6d94-407e-e3ae-6c0bb0368ccd"
      },
      "outputs": [
        {
          "output_type": "stream",
          "name": "stderr",
          "text": [
            "/usr/local/lib/python3.7/dist-packages/ipykernel_launcher.py:52: RuntimeWarning: divide by zero encountered in true_divide\n",
            "/usr/local/lib/python3.7/dist-packages/ipykernel_launcher.py:54: RuntimeWarning: divide by zero encountered in true_divide\n"
          ]
        }
      ],
      "source": [
        "import numpy as np\n",
        "\n",
        "\n",
        "# Se definen las derivadas\n",
        "def deriv3p(f, x, h):\n",
        "    return (f(x + h) - f(x - h))/(2*h)\n",
        "\n",
        "\n",
        "def deriv5p(f, x, h):\n",
        "    return (f(x - 2*h) - 8*f(x - h) + 8*f(x + h) - f(x + 2*h))/(12*h)\n",
        "\n",
        "\n",
        "datos = np.array([       [5.531683013105e-04,       1.070304113861e+12], \n",
        "       [5.910227121702e-04,       1.139622191891e+12], \n",
        "       [6.315688849627e-04,       1.213481232452e+12], \n",
        "       [6.750065137883e-04,       1.292169597309e+12], \n",
        "       [7.215301959429e-04,       1.375954296780e+12], \n",
        "       [7.713235180257e-04,       1.465069697719e+12], \n",
        "       [8.245525173319e-04,       1.559705507566e+12], \n",
        "       [8.813589235833e-04,       1.659994890361e+12], \n",
        "       [9.418537183337e-04,       1.766003776663e+12], \n",
        "       [1.006111625261e-03,       1.877722471320e+12], \n",
        "       [1.074167130425e-03,       1.995060685935e+12], \n",
        "       [1.146012510269e-03,       2.117846703996e+12], \n",
        "       [1.221598126720e-03,       2.245831037960e+12], \n",
        "       [1.300834972303e-03,       2.378694410099e+12], \n",
        "       [1.383599172303e-03,       2.516052095865e+12], \n",
        "       [1.469737934874e-03,       2.657475892684e+12], \n",
        "       [1.559076324033e-03,       2.802524407596e+12], \n",
        "       [1.651424225675e-03,       2.950729179407e+12], \n",
        "       [1.746582964833e-03,       3.101618970269e+12], \n",
        "       [1.844351177716e-03,       3.254730780491e+12], \n",
        "       [1.944529704896e-03,       3.409618695392e+12], \n",
        "       [2.046925420592e-03,       3.565860320889e+12], \n",
        "       [2.151354028418e-03,       3.723061333248e+12], \n",
        "       [2.257641930146e-03,       3.880858018481e+12] ])\n",
        "\n",
        "#se extraen los datos de la tabla\n",
        "p = datos[:,0]\n",
        "k = datos[:,1]\n",
        "\n",
        "#se realiza la derivada con los metodos elegidos mas arriba\n",
        "#se establece la funcion \"logaritmo\"\n",
        "\n",
        "deriv3_k = [deriv3p(np.log, ki, 0.0002) for ki in k]\n",
        "\n",
        "deriv3_p = [deriv3p(np.sin, pi, 0.0002) for pi in p]\n",
        "deriv5_k = [deriv5p(np.log, ki, 0.0002) for ki in k]\n",
        "deriv5_p = [deriv5p(np.sin, pi, 0.0002) for pi in p]\n",
        "\n",
        "#se obtienen los resultados para 3 y 5 puntos\n",
        "resultado3 = np.divide(deriv3_p, deriv3_k)\n",
        "\n",
        "resultado5 = np.divide(deriv5_p, deriv5_k)\n",
        "#Luego el resultado se multiplica por 1/P(k)\n"
      ]
    },
    {
      "cell_type": "code",
      "source": [],
      "metadata": {
        "id": "7PgAF1BmLE5K"
      },
      "execution_count": null,
      "outputs": []
    }
  ]
}