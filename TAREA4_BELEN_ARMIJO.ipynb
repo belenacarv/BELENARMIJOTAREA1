{
  "cells": [
    {
      "cell_type": "code",
      "execution_count": 6,
      "metadata": {
        "id": "WVXTVudQgvbj"
      },
      "outputs": [],
      "source": [
        "#tarea 4.5\n",
        "from matplotlib import pyplot\n",
        "import numpy as np\n",
        "import math\n",
        "import matplotlib.pyplot as plt\n",
        "\n",
        "def taylor_sin(n):\n",
        "  '''\n",
        "  Se define la función para Sin(n) en serie de Taylor de n términos.\n",
        "  Se escribirán dos arreglos, a[] para guardar la suma de los valores de la serie, \n",
        "  y b[] como valores de contador.\n",
        "  '''\n",
        "\n",
        "  a = [] \n",
        "  b = [] \n",
        "  error = [] \n",
        "  for i in range(n): #se inicializa una funcion for para hacer recorrido de valores desde 0 a n.\n",
        "    # Value sería el cálculo de Seno en serie de Taylor.\n",
        "    value = (((-1)**i)*(1**(2*i+1))/math.factorial(2*i+1)) #Para el valor de x en la serie, se asume x = 1\n",
        "\n",
        "    if i==0:\n",
        "        a.append(value)\n",
        "    else:\n",
        "        a.append(value+a[i-1]) #el valor de la serie se sumará con el valor anterior, y luego se agregará al arreglo a[].\n",
        "    \n",
        "    b.append(i) #se agrega un valor i en el arreglo b, como una especie de conteo.\n",
        "  \n",
        "    # calcumalos el error como el valor obtenido menos sin(1), que sería el valor real.\n",
        "    error.append(abs(a[i]- math.sin(1)))\n",
        "    \n",
        "    #En la línea siguiente se imprime cada valor de a, de b, y cada error para poder visualizarlo bien.\n",
        "    print(f'a = {value}, b = {i}, error = {(abs(a[i]- math.sin(1)))}') \n",
        "\n",
        "  #En la línea siguiente se graficará a, junto con las barras de error.\n",
        "  plt.errorbar(b, a, yerr = error, ecolor = 'red', elinewidth = 3, capsize = 0) \n",
        "  plt.show()\n",
        "\n",
        "  #Para encontrar la aproximación a 0,84 que es el valor de sin(1), basta con dar un valor de n mayor a 3, y ya se aproxima en el gráfico."
      ]
    },
    {
      "cell_type": "code",
      "execution_count": 7,
      "metadata": {
        "colab": {
          "base_uri": "https://localhost:8080/",
          "height": 354
        },
        "id": "Ilmenjgag1Gh",
        "outputId": "57a6b715-53ca-4068-8523-be6f84ed988a"
      },
      "outputs": [
        {
          "name": "stdout",
          "output_type": "stream",
          "text": [
            "a = 1.0, b = 0, error = 0.1585290151921035\n",
            "a = -0.16666666666666666, b = 1, error = 0.008137651474563135\n",
            "a = 0.008333333333333333, b = 2, error = 0.0001956818587701692\n",
            "a = -0.0001984126984126984, b = 3, error = 2.7308396425285153e-06\n",
            "a = 2.7557319223985893e-06, b = 4, error = 2.4892279903987458e-08\n"
          ]
        },
        {
          "data": {
            "image/png": "[encoded data removed]",
            "text/plain": [
              "<Figure size 432x288 with 1 Axes>"
            ]
          },
          "metadata": {
            "needs_background": "light"
          },
          "output_type": "display_data"
        }
      ],
      "source": [
        "taylor_sin(5) "
      ]
    },
    {
      "cell_type": "code",
      "execution_count": null,
      "metadata": {
        "colab": {
          "base_uri": "https://localhost:8080/"
        },
        "id": "ht5eLaG_OsSh",
        "outputId": "8c58b5d7-bfe6-472f-a98e-62158d64cd86"
      },
      "outputs": [
        {
          "data": {
            "text/plain": [
              "0.8414709848078965"
            ]
          },
          "execution_count": 5,
          "metadata": {},
          "output_type": "execute_result"
        }
      ],
      "source": [
        "import numpy as np\n",
        "np.sin(1)\n"
      ]
    },
    {
      "cell_type": "markdown",
      "metadata": {},
      "source": [
        "# Calificación: 7.0"
      ]
    },
    {
      "cell_type": "code",
      "execution_count": null,
      "metadata": {
        "colab": {
          "base_uri": "https://localhost:8080/",
          "height": 169
        },
        "id": "Q2hfHg1kOyUB",
        "outputId": "a91978e0-0491-487c-ee5b-2d207077bc97"
      },
      "outputs": [
        {
          "ename": "NameError",
          "evalue": "ignored",
          "output_type": "error",
          "traceback": [
            "\u001b[0;31m---------------------------------------------------------------------------\u001b[0m",
            "\u001b[0;31mNameError\u001b[0m                                 Traceback (most recent call last)",
            "\u001b[0;32m<ipython-input-14-be023830df6e>\u001b[0m in \u001b[0;36m<module>\u001b[0;34m\u001b[0m\n\u001b[0;32m----> 1\u001b[0;31m \u001b[0msum\u001b[0m\u001b[0;34m(\u001b[0m\u001b[0ma\u001b[0m\u001b[0;34m)\u001b[0m\u001b[0;34m\u001b[0m\u001b[0;34m\u001b[0m\u001b[0m\n\u001b[0m",
            "\u001b[0;31mNameError\u001b[0m: name 'a' is not defined"
          ]
        }
      ],
      "source": []
    }
  ],
  "metadata": {
    "colab": {
      "provenance": []
    },
    "kernelspec": {
      "display_name": "Python 3",
      "name": "python3"
    },
    "language_info": {
      "name": "python"
    }
  },
  "nbformat": 4,
  "nbformat_minor": 0
}
