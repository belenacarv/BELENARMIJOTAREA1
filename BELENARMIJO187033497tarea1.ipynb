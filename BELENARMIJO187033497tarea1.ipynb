{
  "cells": [
    {
      "cell_type": "code",
      "execution_count": 1,
      "metadata": {
        "colab": {
          "base_uri": "https://localhost:8080/"
        },
        "id": "RDub26AbgLWa",
        "outputId": "083ebbd5-767a-4edd-95e8-39065fe0e285"
      },
      "outputs": [
        {
          "name": "stdout",
          "output_type": "stream",
          "text": [
            "ingrese dato, escriba salir si quiere finalizar: dato\n",
            "ingrese dato, escriba salir si quiere finalizar: dato\n",
            "ingrese dato, escriba salir si quiere finalizar: salir\n"
          ]
        }
      ],
      "source": [
        "\n",
        "\n",
        "# se crea una funcion while para poder crear el loop\n",
        "while(True):\n",
        "    esc = input('ingrese dato, escriba salir si quiere finalizar: ')  \n",
        "    # si la entrada es \"salir\" se usa el comando break para salir del loop, y el código termina\n",
        "    if(esc=='salir'):\n",
        "        break"
      ]
    }
  ],
  "metadata": {
    "colab": {
      "name": "Untitled2.ipynb",
      "provenance": []
    },
    "kernelspec": {
      "display_name": "Python 3.8.5 ('base')",
      "language": "python",
      "name": "python3"
    },
    "language_info": {
      "name": "python",
      "version": "3.8.5"
    },
    "vscode": {
      "interpreter": {
        "hash": "717166dca5ba27c291ef89c0d672051d570f7fc5e24fe5207b8bf9e4bb58e673"
      }
    }
  },
  "nbformat": 4,
  "nbformat_minor": 0
}
