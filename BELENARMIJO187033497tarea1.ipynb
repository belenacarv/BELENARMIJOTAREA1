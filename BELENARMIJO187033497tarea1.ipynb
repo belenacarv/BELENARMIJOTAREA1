{
  "nbformat": 4,
  "nbformat_minor": 0,
  "metadata": {
    "colab": {
      "name": "Untitled2.ipynb",
      "provenance": []
    },
    "kernelspec": {
      "name": "python3",
      "display_name": "Python 3"
    },
    "language_info": {
      "name": "python"
    }
  },
  "cells": [
    {
      "cell_type": "code",
      "execution_count": 1,
      "metadata": {
        "colab": {
          "base_uri": "https://localhost:8080/"
        },
        "id": "RDub26AbgLWa",
        "outputId": "083ebbd5-767a-4edd-95e8-39065fe0e285"
      },
      "outputs": [
        {
          "name": "stdout",
          "output_type": "stream",
          "text": [
            "ingrese dato, escriba salir si quiere finalizar: dato\n",
            "ingrese dato, escriba salir si quiere finalizar: dato\n",
            "ingrese dato, escriba salir si quiere finalizar: salir\n"
          ]
        }
      ],
      "source": [
        "\n",
        "\n",
        "# se crea una funcion while para poder crear el loop\n",
        "while(True):\n",
        "    esc = input('ingrese dato, escriba salir si quiere finalizar: ')  \n",
        "    # si la entrada es \"salir\" se usa el comando break para salir del loop, y el código termina\n",
        "    if(esc=='salir'):\n",
        "        break"
      ]
    }
  ]
}